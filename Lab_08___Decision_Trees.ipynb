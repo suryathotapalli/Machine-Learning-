{
  "nbformat": 4,
  "nbformat_minor": 0,
  "metadata": {
    "colab": {
      "provenance": [],
      "include_colab_link": true
    },
    "kernelspec": {
      "name": "python3",
      "display_name": "Python 3"
    },
    "language_info": {
      "name": "python"
    }
  },
  "cells": [
    {
      "cell_type": "markdown",
      "metadata": {
        "id": "view-in-github",
        "colab_type": "text"
      },
      "source": [
        "<a href=\"https://colab.research.google.com/github/suryathotapalli/Machine-Learning-/blob/main/Lab_08___Decision_Trees.ipynb\" target=\"_parent\"><img src=\"https://colab.research.google.com/assets/colab-badge.svg\" alt=\"Open In Colab\"/></a>"
      ]
    },
    {
      "cell_type": "markdown",
      "source": [
        "## A1"
      ],
      "metadata": {
        "id": "xqyp9l_rnK_H"
      }
    },
    {
      "cell_type": "markdown",
      "source": [
        "Initialize necessary libraries"
      ],
      "metadata": {
        "id": "2JzMi51rpn6D"
      }
    },
    {
      "cell_type": "code",
      "source": [
        "import numpy as np\n",
        "import pandas as pd\n",
        "from collections import Counter\n",
        "from sklearn.model_selection import train_test_split"
      ],
      "metadata": {
        "id": "gCERSVZFpoUh"
      },
      "execution_count": null,
      "outputs": []
    },
    {
      "cell_type": "markdown",
      "source": [
        "Initializing data"
      ],
      "metadata": {
        "id": "MbxSdU9EniG2"
      }
    },
    {
      "cell_type": "code",
      "source": [
        "class_labels = [\"acrostic\", \"ballad\", \"epigram\", \"haiku\", \"limerick\", \"sestina\", \"sonnet\", \"villanelle\"]"
      ],
      "metadata": {
        "id": "7vpeajatnm6o"
      },
      "execution_count": null,
      "outputs": []
    },
    {
      "cell_type": "markdown",
      "source": [
        "Load embeddings from .csv file"
      ],
      "metadata": {
        "id": "FUndIgLqn4De"
      }
    },
    {
      "cell_type": "code",
      "source": [
        "# Load the dataset into a DataFrame\n",
        "data_df = pd.read_csv(\"poems_data.csv\")\n",
        "\n",
        "# Drop rows with missing values\n",
        "data_df.dropna(inplace=True)\n",
        "\n",
        "# Extract features and target variable\n",
        "X = data_df.drop(columns=['label']).values\n",
        "y = data_df['label'].values"
      ],
      "metadata": {
        "id": "qePmMuR0n57a"
      },
      "execution_count": null,
      "outputs": []
    },
    {
      "cell_type": "markdown",
      "source": [
        "Splitting data into Train and Test datasets"
      ],
      "metadata": {
        "id": "H0O-diA5oRdy"
      }
    },
    {
      "cell_type": "code",
      "source": [
        "# Split data into train and test sets\n",
        "X_train, X_test, y_train, y_test = train_test_split(X, y, test_size=0.2, random_state=42)"
      ],
      "metadata": {
        "id": "SQsYOEKBoRLj"
      },
      "execution_count": null,
      "outputs": []
    },
    {
      "cell_type": "markdown",
      "source": [
        "Initializing Decision Tree Class"
      ],
      "metadata": {
        "id": "gWMTfb9knIt0"
      }
    },
    {
      "cell_type": "code",
      "execution_count": null,
      "metadata": {
        "id": "Q5qp2PF7fxa3"
      },
      "outputs": [],
      "source": [
        "import numpy as np\n",
        "from collections import Counter\n",
        "\n",
        "class DecisionTree:\n",
        "    def __init__(self):\n",
        "        self.tree = None\n",
        "\n",
        "    def fit(self, X, y):\n",
        "        self.tree = self._build_tree(X, y)\n",
        "\n",
        "    def _entropy(self, y):\n",
        "        counter = Counter(y)\n",
        "        entropy = 0\n",
        "        for label in counter:\n",
        "            prob = counter[label] / len(y)\n",
        "            entropy -= prob * np.log2(prob)\n",
        "        return entropy\n",
        "\n",
        "    def _information_gain(self, X, y, feature_index):\n",
        "        total_entropy = self._entropy(y)\n",
        "        values, counts = np.unique(X[:, feature_index], return_counts=True)\n",
        "        weighted_entropy = 0\n",
        "        for value, count in zip(values, counts):\n",
        "            subset_y = y[X[:, feature_index] == value]\n",
        "            weighted_entropy += (count / len(y)) * self._entropy(subset_y)\n",
        "        information_gain = total_entropy - weighted_entropy\n",
        "        return information_gain\n",
        "\n",
        "    def _find_best_split(self, X, y):\n",
        "        best_gain = 0\n",
        "        best_feature = None\n",
        "        for feature_index in range(X.shape[1]):\n",
        "            gain = self._information_gain(X, y, feature_index)\n",
        "            if gain > best_gain:\n",
        "                best_gain = gain\n",
        "                best_feature = feature_index\n",
        "        return best_feature\n",
        "\n",
        "    def _build_tree(self, X, y):\n",
        "        if len(set(y)) == 1:\n",
        "            return {'label': y[0]}\n",
        "        best_feature = self._find_best_split(X, y)\n",
        "        values, counts = np.unique(X[:, best_feature], return_counts=True)\n",
        "        node = {'feature': best_feature, 'children': {}}\n",
        "        for value, count in zip(values, counts):\n",
        "            subset_indices = np.where(X[:, best_feature] == value)[0]\n",
        "            subset_X = X[subset_indices]\n",
        "            subset_y = y[subset_indices]\n",
        "            node['children'][value] = self._build_tree(subset_X, subset_y)\n",
        "        return node\n",
        "\n",
        "    def predict(self, X):\n",
        "        predictions = []\n",
        "        for sample in X:\n",
        "            predictions.append(self._predict_sample(sample, self.tree))\n",
        "        return predictions\n",
        "\n",
        "    def _predict_sample(self, sample, tree):\n",
        "        if 'label' in tree:\n",
        "            return tree['label']\n",
        "        feature_value = sample[tree['feature']]\n",
        "        if feature_value not in tree['children']:\n",
        "            # If a value is encountered in test data which was not seen during training,\n",
        "            # we predict the majority label of the parent node.\n",
        "            return Counter(tree['children']).most_common(1)[0][0]\n",
        "        return self._predict_sample(sample, tree['children'][feature_value])"
      ]
    },
    {
      "cell_type": "markdown",
      "source": [],
      "metadata": {
        "id": "TBfLwK8InS2-"
      }
    },
    {
      "cell_type": "code",
      "source": [
        "# Create and fit the DecisionTree model\n",
        "dt = DecisionTree()\n",
        "dt.fit(X_train, y_train)\n",
        "\n",
        "# Print the structure of the decision tree\n",
        "print(\"Decision Tree Structure:\")\n",
        "print(dt.tree)\n",
        "\n",
        "# Make predictions on the test data\n",
        "predictions = dt.predict(X_test)\n",
        "\n",
        "print(\"Predictions:\")\n",
        "print(predictions)"
      ],
      "metadata": {
        "colab": {
          "base_uri": "https://localhost:8080/",
          "height": 411
        },
        "id": "PYOxGHHvnT2f",
        "outputId": "2284a03e-4dd2-4d97-c813-9fa4027bae13"
      },
      "execution_count": null,
      "outputs": [
        {
          "output_type": "stream",
          "name": "stdout",
          "text": [
            "Decision Tree Structure:\n",
            "{'feature': 0, 'children': {-0.5675428: {'label': 2.0}, -0.5177372: {'label': 2.0}, -0.42911008: {'label': 4.0}, -0.35730004: {'label': 2.0}, -0.34059384: {'label': 4.0}, -0.3391202: {'label': 4.0}, -0.33297166: {'label': 4.0}, -0.3243278: {'label': 2.0}, -0.32309258: {'label': 4.0}, -0.32296684: {'label': 4.0}, -0.3074702: {'label': 4.0}, -0.30156597: {'label': 3.0}, -0.29620895: {'label': 4.0}, -0.288056: {'label': 2.0}, -0.28178996: {'label': 4.0}, -0.28171024: {'label': 2.0}, -0.2816199: {'label': 3.0}, -0.27063403: {'label': 4.0}, -0.26343188: {'label': 4.0}, -0.2613473: {'label': 4.0}, -0.26095122: {'label': 1.0}, -0.25508666: {'label': 3.0}, -0.25124165: {'label': 4.0}, -0.24777532: {'label': 4.0}, -0.24596791: {'label': 2.0}, -0.23899138: {'label': 2.0}, -0.23716187: {'label': 5.0}, -0.23574047: {'label': 4.0}, -0.23568916: {'label': 4.0}, -0.22403383: {'label': 4.0}, -0.22245936: {'label': 4.0}, -0.21741644: {'label': 3.0}, -0.21725368: {'label': 3.0}, -0.21498108: {'label': 5.0}, -0.2126592: {'label': 4.0}, -0.21136627: {'label': 2.0}, -0.2093039: {'label': 4.0}, -0.20638967: {'label': 4.0}, -0.20302981: {'label': 0.0}, -0.20119776: {'label': 4.0}, -0.19784483: {'label': 3.0}, -0.1974788: {'label': 3.0}, -0.19423626: {'label': 4.0}, -0.19340138: {'label': 3.0}, -0.19318305: {'label': 4.0}, -0.18943323: {'label': 1.0}, -0.18802789: {'label': 4.0}, -0.18762851: {'label': 4.0}, -0.18739146: {'label': 2.0}, -0.18704824: {'label': 1.0}, -0.18200275: {'label': 2.0}, -0.17889148: {'label': 4.0}, -0.17694867: {'label': 3.0}, -0.17608702: {'label': 7.0}, -0.17569812: {'label': 1.0}, -0.17492826: {'label': 4.0}, -0.17463186: {'label': 4.0}, -0.17368355: {'label': 1.0}, -0.17320158: {'label': 0.0}, -0.17312661: {'label': 1.0}, -0.17127486: {'label': 4.0}, -0.16959745: {'label': 4.0}, -0.16727063: {'label': 1.0}, -0.16597253: {'label': 3.0}, -0.16577496: {'label': 0.0}, -0.16238575: {'label': 2.0}, -0.15792282: {'label': 2.0}, -0.15697512: {'label': 0.0}, -0.15571398: {'label': 3.0}, -0.15517838: {'label': 3.0}, -0.15211533: {'label': 3.0}, -0.15092064: {'label': 4.0}, -0.1496232: {'label': 5.0}, -0.14934425: {'label': 5.0}, -0.14827585: {'label': 4.0}, -0.1452716: {'label': 4.0}, -0.14433478: {'label': 4.0}, -0.1441472: {'label': 4.0}, -0.14321077: {'label': 4.0}, -0.14238562: {'label': 4.0}, -0.14093122: {'label': 4.0}, -0.14066336: {'label': 1.0}, -0.13833876: {'label': 1.0}, -0.1343847: {'label': 2.0}, -0.1318718: {'label': 4.0}, -0.13121034: {'label': 2.0}, -0.13108023: {'label': 4.0}, -0.12831621: {'label': 4.0}, -0.12721163: {'label': 6.0}, -0.12497037: {'label': 4.0}, -0.12407099: {'label': 3.0}, -0.12316798: {'label': 3.0}, -0.12248594: {'label': 4.0}, -0.121991955: {'label': 1.0}, -0.12184999: {'label': 5.0}, -0.12138556: {'label': 1.0}, -0.120688744: {'label': 3.0}, -0.12041204: {'label': 4.0}, -0.11722069: {'label': 2.0}, -0.117063046: {'label': 3.0}, -0.11583985: {'label': 4.0}, -0.11519247: {'label': 4.0}, -0.11509791: {'label': 1.0}, -0.1120289: {'label': 4.0}, -0.11164878: {'label': 1.0}, -0.11026457: {'label': 4.0}, -0.10991371: {'label': 0.0}, -0.10726945: {'label': 4.0}, -0.105157904: {'label': 5.0}, -0.105059706: {'label': 4.0}, -0.10054311: {'label': 4.0}, -0.09980083: {'label': 3.0}, -0.09947865: {'label': 5.0}, -0.098762974: {'label': 7.0}, -0.09850251: {'label': 2.0}, -0.09781668: {'label': 5.0}, -0.096131824: {'label': 2.0}, -0.09344549: {'label': 1.0}, -0.09124344: {'label': 3.0}, -0.090028: {'label': 6.0}, -0.08960575: {'label': 3.0}, -0.08918008: {'label': 1.0}, -0.08869379: {'label': 4.0}, -0.088230126: {'label': 4.0}, -0.08647963: {'label': 1.0}, -0.086264856: {'label': 4.0}, -0.08420092: {'label': 1.0}, -0.08360001: {'label': 6.0}, -0.0827186: {'label': 5.0}, -0.08249641: {'label': 4.0}, -0.081876904: {'label': 4.0}, -0.08111476: {'label': 2.0}, -0.08039313: {'label': 6.0}, -0.08016761: {'label': 1.0}, -0.08003689: {'label': 4.0}, -0.07866494: {'label': 7.0}, -0.07785446: {'label': 4.0}, -0.077775136: {'label': 6.0}, -0.07717478: {'label': 4.0}, -0.07710356: {'label': 4.0}, -0.07618853: {'label': 6.0}, -0.07455366: {'label': 3.0}, -0.07416543: {'label': 1.0}, -0.073509544: {'label': 1.0}, -0.07312535: {'label': 0.0}, -0.07129557: {'label': 4.0}, -0.068507925: {'label': 2.0}, -0.068320565: {'label': 6.0}, -0.067717: {'label': 1.0}, -0.06641702: {'label': 3.0}, -0.06400254: {'label': 1.0}, -0.062016916: {'label': 3.0}, -0.06134307: {'label': 2.0}, -0.060343727: {'label': 5.0}, -0.060239557: {'label': 4.0}, -0.0601013: {'label': 2.0}, -0.060033746: {'label': 2.0}, -0.05988992: {'label': 5.0}, -0.059735302: {'label': 1.0}, -0.05773393: {'label': 6.0}, -0.056940157: {'label': 5.0}, -0.055889387: {'label': 4.0}, -0.055163607: {'label': 1.0}, -0.05481094: {'label': 2.0}, -0.054253146: {'label': 4.0}, -0.05304642: {'label': 2.0}, -0.0524606: {'label': 6.0}, -0.05156235: {'label': 5.0}, -0.050349846: {'label': 1.0}, -0.049629062: {'label': 3.0}, -0.048922736: {'label': 2.0}, -0.047719024: {'label': 3.0}, -0.046785343: {'label': 3.0}, -0.04477268: {'label': 3.0}, -0.044174906: {'label': 3.0}, -0.041208565: {'label': 1.0}, -0.041103024: {'label': 0.0}, -0.04094097: {'label': 6.0}, -0.04025891: {'label': 2.0}, -0.040124405: {'label': 5.0}, -0.039368257: {'label': 5.0}, -0.037235387: {'label': 1.0}, -0.0370013: {'label': 4.0}, -0.036047272: {'label': 3.0}, -0.03484202: {'label': 4.0}, -0.03261784: {'label': 2.0}, -0.03219841: {'label': 0.0}, -0.030529205: {'label': 1.0}, -0.030222468: {'label': 1.0}, -0.029781401: {'label': 0.0}, -0.02922668: {'label': 1.0}, -0.028123014: {'label': 4.0}, -0.027099263: {'label': 5.0}, -0.026632084: {'label': 3.0}, -0.026239252: {'label': 0.0}, -0.025523089: {'label': 4.0}, -0.025317166: {'label': 5.0}, -0.024991632: {'label': 3.0}, -0.024987755: {'label': 7.0}, -0.023949627: {'label': 1.0}, -0.023613615: {'label': 1.0}, -0.022290016: {'label': 2.0}, -0.02111634: {'label': 5.0}, -0.020850526: {'label': 3.0}, -0.019733928: {'label': 1.0}, -0.019498914: {'label': 5.0}, -0.019495107: {'label': 1.0}, -0.019287547: {'label': 5.0}, -0.01884093: {'label': 2.0}, -0.018815547: {'label': 2.0}, -0.018584207: {'label': 4.0}, -0.018125616: {'label': 4.0}, -0.01687891: {'label': 4.0}, -0.016552657: {'label': 2.0}, -0.014879178: {'label': 5.0}, -0.014854393: {'label': 3.0}, -0.014683552: {'label': 5.0}, -0.013346026: {'label': 0.0}, -0.013202316: {'label': 0.0}, -0.013180263: {'label': 2.0}, -0.012145352: {'label': 5.0}, -0.010897063: {'label': 4.0}, -0.010827359: {'label': 1.0}, -0.010721436: {'label': 1.0}, -0.010174287: {'label': 3.0}, -0.009832315: {'label': 1.0}, -0.0077747065: {'label': 2.0}, -0.007384097: {'label': 5.0}, -0.006738181: {'label': 0.0}, -0.006502621: {'label': 1.0}, -0.0063123256: {'label': 1.0}, -0.0050375964: {'label': 3.0}, -0.0048849527: {'label': 7.0}, -0.0046873204: {'label': 6.0}, -0.0038066255: {'label': 2.0}, -0.0025172778: {'label': 6.0}, -0.0013164133: {'label': 1.0}, -0.0007794137: {'label': 3.0}, 0.0014455656: {'label': 3.0}, 0.0016508289: {'label': 1.0}, 0.004072755: {'label': 0.0}, 0.006293492: {'label': 0.0}, 0.006430565: {'label': 4.0}, 0.007090744: {'label': 6.0}, 0.00902137: {'label': 2.0}, 0.00918115: {'label': 3.0}, 0.0094245095: {'label': 7.0}, 0.010184389: {'label': 5.0}, 0.013328954: {'label': 6.0}, 0.01381844: {'label': 3.0}, 0.0152944485: {'label': 6.0}, 0.016755512: {'label': 3.0}, 0.017116677: {'label': 0.0}, 0.017476464: {'label': 3.0}, 0.0181896: {'label': 5.0}, 0.019119814: {'label': 5.0}, 0.019312501: {'label': 2.0}, 0.019379549: {'label': 2.0}, 0.020860936: {'label': 3.0}, 0.021637037: {'label': 2.0}, 0.022892645: {'label': 1.0}, 0.023032136: {'label': 6.0}, 0.02311948: {'label': 1.0}, 0.024143074: {'label': 7.0}, 0.025084447: {'label': 3.0}, 0.027941413: {'label': 5.0}, 0.028415332: {'label': 6.0}, 0.028472042: {'label': 2.0}, 0.029334612: {'label': 4.0}, 0.029663501: {'label': 1.0}, 0.030290507: {'label': 0.0}, 0.030404892: {'label': 1.0}, 0.03115215: {'label': 0.0}, 0.031739976: {'label': 3.0}, 0.032181524: {'label': 6.0}, 0.033329725: {'label': 3.0}, 0.033904403: {'label': 7.0}, 0.034507353: {'label': 6.0}, 0.03524631: {'label': 4.0}, 0.035590123: {'label': 1.0}, 0.036676224: {'label': 0.0}, 0.036775433: {'label': 6.0}, 0.037680905: {'label': 3.0}, 0.03797534: {'label': 2.0}, 0.03863501: {'label': 3.0}, 0.038922574: {'label': 1.0}, 0.039959203: {'label': 6.0}, 0.04016288: {'label': 2.0}, 0.040825393: {'label': 1.0}, 0.041676953: {'label': 0.0}, 0.041748993: {'label': 6.0}, 0.041925985: {'label': 6.0}, 0.04199572: {'label': 5.0}, 0.043046795: {'label': 2.0}, 0.044763323: {'label': 5.0}, 0.045268178: {'label': 2.0}, 0.04674777: {'label': 1.0}, 0.047359154: {'label': 4.0}, 0.04842211: {'label': 2.0}, 0.04871627: {'label': 0.0}, 0.048982903: {'label': 0.0}, 0.05000172: {'label': 0.0}, 0.05190446: {'label': 2.0}, 0.05191057: {'label': 4.0}, 0.053618245: {'label': 2.0}, 0.053758513: {'label': 2.0}, 0.055574972: {'label': 5.0}, 0.055662286: {'label': 1.0}, 0.05604893: {'label': 3.0}, 0.056221202: {'label': 3.0}, 0.057087407: {'label': 3.0}, 0.057292778: {'label': 6.0}, 0.05769662: {'label': 0.0}, 0.059057906: {'label': 1.0}, 0.0596755: {'label': 6.0}, 0.060036212: {'label': 2.0}, 0.06020318: {'label': 2.0}, 0.06172172: {'label': 1.0}, 0.062568665: {'label': 0.0}, 0.06378513: {'label': 1.0}, 0.063936666: {'label': 1.0}, 0.06450729: {'label': 1.0}, 0.06491471: {'label': 0.0}, 0.06551093: {'label': 2.0}, 0.06559711: {'label': 6.0}, 0.0656759: {'label': 5.0}, 0.066199504: {'label': 4.0}, 0.06633791: {'label': 6.0}, 0.067053184: {'label': 5.0}, 0.06802945: {'label': 4.0}, 0.06819384: {'label': 5.0}, 0.06920488: {'label': 5.0}, 0.0696943: {'label': 2.0}, 0.06982285: {'label': 0.0}, 0.07001794: {'label': 5.0}, 0.07007448: {'label': 1.0}, 0.07072291: {'label': 1.0}, 0.07260968: {'label': 6.0}, 0.07268144: {'label': 7.0}, 0.07552694: {'label': 6.0}, 0.07571627: {'label': 4.0}, 0.07616106: {'label': 0.0}, 0.077446975: {'label': 6.0}, 0.07833696: {'label': 5.0}, 0.08057936: {'label': 6.0}, 0.08072427: {'label': 3.0}, 0.08370221: {'label': 6.0}, 0.08398533: {'label': 0.0}, 0.08504895: {'label': 0.0}, 0.08514684: {'label': 2.0}, 0.08592743: {'label': 5.0}, 0.08606441: {'label': 0.0}, 0.086420685: {'label': 0.0}, 0.086894415: {'label': 6.0}, 0.08704013: {'label': 3.0}, 0.087317005: {'label': 1.0}, 0.08856462: {'label': 1.0}, 0.08977694: {'label': 6.0}, 0.091507256: {'label': 0.0}, 0.09228561: {'label': 2.0}, 0.09279522: {'label': 5.0}, 0.095007725: {'label': 5.0}, 0.09503735: {'label': 5.0}, 0.09555956: {'label': 5.0}, 0.095844306: {'label': 2.0}, 0.09602004: {'label': 5.0}, 0.09671999: {'label': 0.0}, 0.09769072: {'label': 3.0}, 0.09801994: {'label': 3.0}, 0.1000944: {'label': 2.0}, 0.10063307: {'label': 0.0}, 0.10081699: {'label': 5.0}, 0.10115591: {'label': 2.0}, 0.10238658: {'label': 4.0}, 0.10444885: {'label': 3.0}, 0.10447744: {'label': 1.0}, 0.10480735: {'label': 3.0}, 0.105086185: {'label': 1.0}, 0.10578577: {'label': 6.0}, 0.10637728: {'label': 5.0}, 0.10840197: {'label': 3.0}, 0.10926435: {'label': 1.0}, 0.11028204: {'label': 2.0}, 0.111888185: {'label': 1.0}, 0.11390179: {'label': 5.0}, 0.114356704: {'label': 6.0}, 0.11504015: {'label': 1.0}, 0.11602497: {'label': 2.0}, 0.11741093: {'label': 2.0}, 0.11759021: {'label': 6.0}, 0.11847813: {'label': 5.0}, 0.11971766: {'label': 6.0}, 0.11992078: {'label': 5.0}, 0.119920805: {'label': 5.0}, 0.12054797: {'label': 3.0}, 0.12084997: {'label': 0.0}, 0.12090848: {'label': 0.0}, 0.12153496: {'label': 1.0}, 0.122822225: {'label': 4.0}, 0.12288012: {'label': 2.0}, 0.12321305: {'label': 0.0}, 0.12428948: {'label': 6.0}, 0.1242908: {'label': 2.0}, 0.12488241: {'label': 2.0}, 0.12545516: {'label': 6.0}, 0.12704934: {'label': 3.0}, 0.12851907: {'label': 5.0}, 0.13016982: {'label': 3.0}, 0.13021643: {'label': 5.0}, 0.13039558: {'label': 2.0}, 0.13131118: {'label': 0.0}, 0.1318999: {'label': 6.0}, 0.13383183: {'label': 6.0}, 0.13437663: {'label': 6.0}, 0.13599163: {'label': 5.0}, 0.13786297: {'label': 5.0}, 0.13869189: {'label': 3.0}, 0.13986738: {'label': 0.0}, 0.14117715: {'label': 5.0}, 0.14412372: {'label': 5.0}, 0.1444594: {'label': 3.0}, 0.1454283: {'label': 1.0}, 0.14591509: {'label': 6.0}, 0.1461949: {'label': 0.0}, 0.146548: {'label': 2.0}, 0.14732932: {'label': 3.0}, 0.14794761: {'label': 6.0}, 0.14796056: {'label': 3.0}, 0.14988828: {'label': 2.0}, 0.15023862: {'label': 6.0}, 0.15025559: {'label': 0.0}, 0.15045412: {'label': 6.0}, 0.15082586: {'label': 1.0}, 0.15262179: {'label': 1.0}, 0.15270795: {'label': 6.0}, 0.15427959: {'label': 4.0}, 0.15520984: {'label': 5.0}, 0.15654863: {'label': 7.0}, 0.15690446: {'label': 1.0}, 0.15734653: {'label': 5.0}, 0.15835346: {'label': 6.0}, 0.15924282: {'label': 1.0}, 0.16294679: {'label': 3.0}, 0.16296723: {'label': 6.0}, 0.1658734: {'label': 5.0}, 0.16639912: {'label': 2.0}, 0.16673268: {'label': 1.0}, 0.16788645: {'label': 0.0}, 0.1683131: {'label': 3.0}, 0.1684963: {'label': 5.0}, 0.16853178: {'label': 0.0}, 0.16976467: {'label': 2.0}, 0.1701551: {'label': 1.0}, 0.17068504: {'label': 5.0}, 0.17101373: {'label': 0.0}, 0.17121942: {'label': 7.0}, 0.17133376: {'label': 3.0}, 0.1732519: {'label': 0.0}, 0.17326209: {'label': 3.0}, 0.17327812: {'label': 1.0}, 0.17595932: {'label': 0.0}, 0.17666876: {'label': 5.0}, 0.1774329: {'label': 0.0}, 0.17758633: {'label': 6.0}, 0.1800999: {'label': 5.0}, 0.18051784: {'label': 0.0}, 0.18076767: {'label': 0.0}, 0.18616264: {'label': 2.0}, 0.18903014: {'label': 5.0}, 0.19120817: {'label': 6.0}, 0.19361149: {'label': 3.0}, 0.1939511: {'label': 0.0}, 0.19471163: {'label': 0.0}, 0.19492179: {'label': 0.0}, 0.19609302: {'label': 0.0}, 0.19830841: {'label': 2.0}, 0.19881035: {'label': 2.0}, 0.20032564: {'label': 6.0}, 0.20072538: {'label': 3.0}, 0.20090692: {'label': 7.0}, 0.20132254: {'label': 5.0}, 0.20701046: {'label': 6.0}, 0.2072309: {'label': 7.0}, 0.20776582: {'label': 5.0}, 0.20857628: {'label': 5.0}, 0.20974973: {'label': 5.0}, 0.20987254: {'label': 6.0}, 0.20997483: {'label': 7.0}, 0.21090756: {'label': 0.0}, 0.21155412: {'label': 7.0}, 0.2119887: {'label': 5.0}, 0.21390066: {'label': 0.0}, 0.21482763: {'label': 5.0}, 0.21502179: {'label': 1.0}, 0.21613859: {'label': 6.0}, 0.2166885: {'label': 2.0}, 0.22022615: {'label': 2.0}, 0.22117668: {'label': 3.0}, 0.22315432: {'label': 0.0}, 0.22320504: {'label': 6.0}, 0.2232303: {'label': 5.0}, 0.22414504: {'label': 6.0}, 0.22482257: {'label': 2.0}, 0.22740592: {'label': 6.0}, 0.22768934: {'label': 7.0}, 0.22771873: {'label': 1.0}, 0.22839758: {'label': 6.0}, 0.22943865: {'label': 0.0}, 0.23212893: {'label': 6.0}, 0.23282504: {'label': 7.0}, 0.23307607: {'label': 0.0}, 0.23330829: {'label': 5.0}, 0.2350556: {'label': 1.0}, 0.24393898: {'label': 5.0}, 0.24796486: {'label': 5.0}, 0.2563841: {'label': 3.0}, 0.2568659: {'label': 0.0}, 0.25697: {'label': 7.0}, 0.26084638: {'label': 5.0}, 0.2615145: {'label': 0.0}, 0.26155764: {'label': 1.0}, 0.26194507: {'label': 0.0}, 0.26487428: {'label': 6.0}, 0.26630285: {'label': 3.0}, 0.26709718: {'label': 2.0}, 0.26877484: {'label': 0.0}, 0.27218524: {'label': 7.0}, 0.2771522: {'label': 5.0}, 0.27986136: {'label': 0.0}, 0.28039658: {'label': 0.0}, 0.28066522: {'label': 6.0}, 0.28140724: {'label': 7.0}, 0.282009: {'label': 6.0}, 0.28503823: {'label': 0.0}, 0.28739864: {'label': 2.0}, 0.29016003: {'label': 2.0}, 0.29172447: {'label': 5.0}, 0.2930974: {'label': 5.0}, 0.30114052: {'label': 5.0}, 0.30216414: {'label': 3.0}, 0.3058431: {'label': 2.0}, 0.30606997: {'label': 0.0}, 0.30663517: {'label': 7.0}, 0.30932233: {'label': 0.0}, 0.32250828: {'label': 7.0}, 0.32315642: {'label': 6.0}, 0.32781306: {'label': 0.0}, 0.3312112: {'label': 7.0}, 0.33388945: {'label': 6.0}, 0.33569944: {'label': 0.0}, 0.33606377: {'label': 0.0}, 0.33668226: {'label': 7.0}, 0.3416412: {'label': 5.0}, 0.34277865: {'label': 7.0}, 0.34552234: {'label': 0.0}, 0.35135907: {'label': 6.0}, 0.3601529: {'label': 5.0}, 0.36183476: {'label': 1.0}, 0.37160388: {'label': 6.0}, 0.3814985: {'label': 7.0}, 0.38379052: {'label': 0.0}, 0.39449418: {'label': 5.0}, 0.44053468: {'label': 1.0}, 0.45165214: {'label': 7.0}}}\n"
          ]
        },
        {
          "output_type": "error",
          "ename": "TypeError",
          "evalue": "'>' not supported between instances of 'dict' and 'dict'",
          "traceback": [
            "\u001b[0;31m---------------------------------------------------------------------------\u001b[0m",
            "\u001b[0;31mTypeError\u001b[0m                                 Traceback (most recent call last)",
            "\u001b[0;32m<ipython-input-16-5a7a5ac2d3ce>\u001b[0m in \u001b[0;36m<cell line: 10>\u001b[0;34m()\u001b[0m\n\u001b[1;32m      8\u001b[0m \u001b[0;34m\u001b[0m\u001b[0m\n\u001b[1;32m      9\u001b[0m \u001b[0;31m# Make predictions on the test data\u001b[0m\u001b[0;34m\u001b[0m\u001b[0;34m\u001b[0m\u001b[0m\n\u001b[0;32m---> 10\u001b[0;31m \u001b[0mpredictions\u001b[0m \u001b[0;34m=\u001b[0m \u001b[0mdt\u001b[0m\u001b[0;34m.\u001b[0m\u001b[0mpredict\u001b[0m\u001b[0;34m(\u001b[0m\u001b[0mX_test\u001b[0m\u001b[0;34m)\u001b[0m\u001b[0;34m\u001b[0m\u001b[0;34m\u001b[0m\u001b[0m\n\u001b[0m\u001b[1;32m     11\u001b[0m \u001b[0;34m\u001b[0m\u001b[0m\n\u001b[1;32m     12\u001b[0m \u001b[0mprint\u001b[0m\u001b[0;34m(\u001b[0m\u001b[0;34m\"Predictions:\"\u001b[0m\u001b[0;34m)\u001b[0m\u001b[0;34m\u001b[0m\u001b[0;34m\u001b[0m\u001b[0m\n",
            "\u001b[0;32m<ipython-input-15-78cb573da1eb>\u001b[0m in \u001b[0;36mpredict\u001b[0;34m(self, X)\u001b[0m\n\u001b[1;32m     53\u001b[0m         \u001b[0mpredictions\u001b[0m \u001b[0;34m=\u001b[0m \u001b[0;34m[\u001b[0m\u001b[0;34m]\u001b[0m\u001b[0;34m\u001b[0m\u001b[0;34m\u001b[0m\u001b[0m\n\u001b[1;32m     54\u001b[0m         \u001b[0;32mfor\u001b[0m \u001b[0msample\u001b[0m \u001b[0;32min\u001b[0m \u001b[0mX\u001b[0m\u001b[0;34m:\u001b[0m\u001b[0;34m\u001b[0m\u001b[0;34m\u001b[0m\u001b[0m\n\u001b[0;32m---> 55\u001b[0;31m             \u001b[0mpredictions\u001b[0m\u001b[0;34m.\u001b[0m\u001b[0mappend\u001b[0m\u001b[0;34m(\u001b[0m\u001b[0mself\u001b[0m\u001b[0;34m.\u001b[0m\u001b[0m_predict_sample\u001b[0m\u001b[0;34m(\u001b[0m\u001b[0msample\u001b[0m\u001b[0;34m,\u001b[0m \u001b[0mself\u001b[0m\u001b[0;34m.\u001b[0m\u001b[0mtree\u001b[0m\u001b[0;34m)\u001b[0m\u001b[0;34m)\u001b[0m\u001b[0;34m\u001b[0m\u001b[0;34m\u001b[0m\u001b[0m\n\u001b[0m\u001b[1;32m     56\u001b[0m         \u001b[0;32mreturn\u001b[0m \u001b[0mpredictions\u001b[0m\u001b[0;34m\u001b[0m\u001b[0;34m\u001b[0m\u001b[0m\n\u001b[1;32m     57\u001b[0m \u001b[0;34m\u001b[0m\u001b[0m\n",
            "\u001b[0;32m<ipython-input-15-78cb573da1eb>\u001b[0m in \u001b[0;36m_predict_sample\u001b[0;34m(self, sample, tree)\u001b[0m\n\u001b[1;32m     63\u001b[0m             \u001b[0;31m# If a value is encountered in test data which was not seen during training,\u001b[0m\u001b[0;34m\u001b[0m\u001b[0;34m\u001b[0m\u001b[0m\n\u001b[1;32m     64\u001b[0m             \u001b[0;31m# we predict the majority label of the parent node.\u001b[0m\u001b[0;34m\u001b[0m\u001b[0;34m\u001b[0m\u001b[0m\n\u001b[0;32m---> 65\u001b[0;31m             \u001b[0;32mreturn\u001b[0m \u001b[0mCounter\u001b[0m\u001b[0;34m(\u001b[0m\u001b[0mtree\u001b[0m\u001b[0;34m[\u001b[0m\u001b[0;34m'children'\u001b[0m\u001b[0;34m]\u001b[0m\u001b[0;34m)\u001b[0m\u001b[0;34m.\u001b[0m\u001b[0mmost_common\u001b[0m\u001b[0;34m(\u001b[0m\u001b[0;36m1\u001b[0m\u001b[0;34m)\u001b[0m\u001b[0;34m[\u001b[0m\u001b[0;36m0\u001b[0m\u001b[0;34m]\u001b[0m\u001b[0;34m[\u001b[0m\u001b[0;36m0\u001b[0m\u001b[0;34m]\u001b[0m\u001b[0;34m\u001b[0m\u001b[0;34m\u001b[0m\u001b[0m\n\u001b[0m\u001b[1;32m     66\u001b[0m         \u001b[0;32mreturn\u001b[0m \u001b[0mself\u001b[0m\u001b[0;34m.\u001b[0m\u001b[0m_predict_sample\u001b[0m\u001b[0;34m(\u001b[0m\u001b[0msample\u001b[0m\u001b[0;34m,\u001b[0m \u001b[0mtree\u001b[0m\u001b[0;34m[\u001b[0m\u001b[0;34m'children'\u001b[0m\u001b[0;34m]\u001b[0m\u001b[0;34m[\u001b[0m\u001b[0mfeature_value\u001b[0m\u001b[0;34m]\u001b[0m\u001b[0;34m)\u001b[0m\u001b[0;34m\u001b[0m\u001b[0;34m\u001b[0m\u001b[0m\n",
            "\u001b[0;32m/usr/lib/python3.10/collections/__init__.py\u001b[0m in \u001b[0;36mmost_common\u001b[0;34m(self, n)\u001b[0m\n\u001b[1;32m    600\u001b[0m         \u001b[0;31m# Lazy import to speedup Python startup time\u001b[0m\u001b[0;34m\u001b[0m\u001b[0;34m\u001b[0m\u001b[0m\n\u001b[1;32m    601\u001b[0m         \u001b[0;32mimport\u001b[0m \u001b[0mheapq\u001b[0m\u001b[0;34m\u001b[0m\u001b[0;34m\u001b[0m\u001b[0m\n\u001b[0;32m--> 602\u001b[0;31m         \u001b[0;32mreturn\u001b[0m \u001b[0mheapq\u001b[0m\u001b[0;34m.\u001b[0m\u001b[0mnlargest\u001b[0m\u001b[0;34m(\u001b[0m\u001b[0mn\u001b[0m\u001b[0;34m,\u001b[0m \u001b[0mself\u001b[0m\u001b[0;34m.\u001b[0m\u001b[0mitems\u001b[0m\u001b[0;34m(\u001b[0m\u001b[0;34m)\u001b[0m\u001b[0;34m,\u001b[0m \u001b[0mkey\u001b[0m\u001b[0;34m=\u001b[0m\u001b[0m_itemgetter\u001b[0m\u001b[0;34m(\u001b[0m\u001b[0;36m1\u001b[0m\u001b[0;34m)\u001b[0m\u001b[0;34m)\u001b[0m\u001b[0;34m\u001b[0m\u001b[0;34m\u001b[0m\u001b[0m\n\u001b[0m\u001b[1;32m    603\u001b[0m \u001b[0;34m\u001b[0m\u001b[0m\n\u001b[1;32m    604\u001b[0m     \u001b[0;32mdef\u001b[0m \u001b[0melements\u001b[0m\u001b[0;34m(\u001b[0m\u001b[0mself\u001b[0m\u001b[0;34m)\u001b[0m\u001b[0;34m:\u001b[0m\u001b[0;34m\u001b[0m\u001b[0;34m\u001b[0m\u001b[0m\n",
            "\u001b[0;32m/usr/lib/python3.10/heapq.py\u001b[0m in \u001b[0;36mnlargest\u001b[0;34m(n, iterable, key)\u001b[0m\n\u001b[1;32m    529\u001b[0m         \u001b[0mit\u001b[0m \u001b[0;34m=\u001b[0m \u001b[0miter\u001b[0m\u001b[0;34m(\u001b[0m\u001b[0miterable\u001b[0m\u001b[0;34m)\u001b[0m\u001b[0;34m\u001b[0m\u001b[0;34m\u001b[0m\u001b[0m\n\u001b[1;32m    530\u001b[0m         \u001b[0msentinel\u001b[0m \u001b[0;34m=\u001b[0m \u001b[0mobject\u001b[0m\u001b[0;34m(\u001b[0m\u001b[0;34m)\u001b[0m\u001b[0;34m\u001b[0m\u001b[0;34m\u001b[0m\u001b[0m\n\u001b[0;32m--> 531\u001b[0;31m         \u001b[0mresult\u001b[0m \u001b[0;34m=\u001b[0m \u001b[0mmax\u001b[0m\u001b[0;34m(\u001b[0m\u001b[0mit\u001b[0m\u001b[0;34m,\u001b[0m \u001b[0mdefault\u001b[0m\u001b[0;34m=\u001b[0m\u001b[0msentinel\u001b[0m\u001b[0;34m,\u001b[0m \u001b[0mkey\u001b[0m\u001b[0;34m=\u001b[0m\u001b[0mkey\u001b[0m\u001b[0;34m)\u001b[0m\u001b[0;34m\u001b[0m\u001b[0;34m\u001b[0m\u001b[0m\n\u001b[0m\u001b[1;32m    532\u001b[0m         \u001b[0;32mreturn\u001b[0m \u001b[0;34m[\u001b[0m\u001b[0;34m]\u001b[0m \u001b[0;32mif\u001b[0m \u001b[0mresult\u001b[0m \u001b[0;32mis\u001b[0m \u001b[0msentinel\u001b[0m \u001b[0;32melse\u001b[0m \u001b[0;34m[\u001b[0m\u001b[0mresult\u001b[0m\u001b[0;34m]\u001b[0m\u001b[0;34m\u001b[0m\u001b[0;34m\u001b[0m\u001b[0m\n\u001b[1;32m    533\u001b[0m \u001b[0;34m\u001b[0m\u001b[0m\n",
            "\u001b[0;31mTypeError\u001b[0m: '>' not supported between instances of 'dict' and 'dict'"
          ]
        }
      ]
    }
  ]
}